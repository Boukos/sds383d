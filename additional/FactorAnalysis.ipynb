{
 "cells": [
  {
   "cell_type": "code",
   "execution_count": 1,
   "metadata": {
    "collapsed": true
   },
   "outputs": [],
   "source": [
    "import numpy as np\n",
    "import matplotlib.pyplot as plt"
   ]
  },
  {
   "cell_type": "code",
   "execution_count": 97,
   "metadata": {},
   "outputs": [
    {
     "data": {
      "image/png": "[encoded data removed]",
      "text/plain": [
       "<matplotlib.figure.Figure at 0x1100642b0>"
      ]
     },
     "metadata": {},
     "output_type": "display_data"
    }
   ],
   "source": [
    "#generate data\n",
    "fig,ax = plt.subplots(4)\n",
    "all_features = np.zeros((4,25))\n",
    "feat1 = np.zeros((5,5))\n",
    "feat1[1,:] = 1\n",
    "ax[0].imshow(feat1)\n",
    "\n",
    "all_features[0,:] = feat1.flatten()\n",
    "\n",
    "feat2 = np.zeros((5,5))\n",
    "feat2[3,:] = 1\n",
    "ax[1].imshow(feat2)\n",
    "\n",
    "all_features[1,:] = feat2.flatten()\n",
    "\n",
    "feat3 = np.zeros((5,5))\n",
    "feat3[:,1] = 1\n",
    "ax[2].imshow(feat3)\n",
    "\n",
    "all_features[2,:] = feat3.flatten()\n",
    "\n",
    "feat4 = np.zeros((5,5))\n",
    "feat4[:,3] = 1\n",
    "ax[3].imshow(feat4)\n",
    "plt.show()\n",
    "all_features[3,:] = feat4.flatten()\n",
    "all_features = all_features - np.mean(all_features)\n",
    "all_features = all_features/np.std(all_features) "
   ]
  },
  {
   "cell_type": "code",
   "execution_count": 122,
   "metadata": {},
   "outputs": [
    {
     "data": {
      "image/png": "[encoded data removed]",
      "text/plain": [
       "<matplotlib.figure.Figure at 0x10df3fd30>"
      ]
     },
     "metadata": {},
     "output_type": "display_data"
    },
    {
     "name": "stdout",
     "output_type": "stream",
     "text": [
      "[ 1.83935478  0.27946165  0.94068331  0.01567124]\n"
     ]
    },
    {
     "data": {
      "image/png": "[encoded data removed]",
      "text/plain": [
       "<matplotlib.figure.Figure at 0x10e8af470>"
      ]
     },
     "metadata": {},
     "output_type": "display_data"
    }
   ],
   "source": [
    "true_loadings = np.random.normal(size=(1000,4))\n",
    "data = np.dot(true_loadings, all_features)\n",
    "\n",
    "fig,ax = plt.subplots(5)\n",
    "for i in range(5):\n",
    "    ax[i].imshow(data[i,:].reshape(5,5),vmin=-2,vmax=2)\n",
    "\n",
    "plt.show()\n",
    "print(true_loadings[0,:])\n",
    "plt.plot(data[0,:])\n",
    "plt.show()"
   ]
  },
  {
   "cell_type": "code",
   "execution_count": 103,
   "metadata": {
    "collapsed": true
   },
   "outputs": [],
   "source": [
    "def gibbs_sampler_uncollapsed(data, sigy,sigl,K,maxit=1000,F = None):\n",
    "    N,D= data.shape\n",
    "    if F is None:\n",
    "        F = np.zeros((N,K))\n",
    "   \n",
    "    Lambda = np.zeros((K,D))\n",
    "    \n",
    "    for iter in range(maxit):\n",
    "        \n",
    "        #sample Lambda\n",
    "        for d in range(D):\n",
    "            invcov = (1./sigl)*np.eye(K) + (1./sigy)*np.dot(F.T,F)\n",
    "            cov = np.linalg.inv(invcov)\n",
    "            m = np.dot(cov, np.dot(F.T,data[:,d]))\n",
    "            Lambda[:,d] = np.random.multivariate_normal(m,cov)\n",
    "        #sample F\n",
    "        for n in range(N):\n",
    "            invcov = np.eye(K) + (1./sigy)*np.dot(Lambda,Lambda.T)\n",
    "            cov = np.linalg.inv(invcov)\n",
    "            m = np.dot(cov, np.dot(Lambda,data[n,:]))\n",
    "            F[n,:] = np.random.multivariate_normal(m,cov)\n",
    "        if iter%100==0:\n",
    "            print('.') #reassuring dots\n",
    "    return F,Lambda"
   ]
  },
  {
   "cell_type": "code",
   "execution_count": 114,
   "metadata": {},
   "outputs": [
    {
     "name": "stdout",
     "output_type": "stream",
     "text": [
      ".\n"
     ]
    }
   ],
   "source": [
    "F,Lambda = gibbs_sampler_uncollapsed(data,0.1,1.,4,maxit=100)"
   ]
  },
  {
   "cell_type": "code",
   "execution_count": 115,
   "metadata": {},
   "outputs": [
    {
     "data": {
      "image/png": "[encoded data removed]",
      "text/plain": [
       "<matplotlib.figure.Figure at 0x10d969390>"
      ]
     },
     "metadata": {},
     "output_type": "display_data"
    }
   ],
   "source": [
    "fig,ax = plt.subplots(4)\n",
    "for i in range(4):\n",
    "    ax[i].imshow(Lambda[i,:].reshape(5,5))\n",
    "plt.show()"
   ]
  },
  {
   "cell_type": "code",
   "execution_count": 119,
   "metadata": {},
   "outputs": [
    {
     "name": "stdout",
     "output_type": "stream",
     "text": [
      ".\n",
      ".\n",
      ".\n",
      ".\n",
      ".\n"
     ]
    },
    {
     "data": {
      "image/png": "[encoded data removed]",
      "text/plain": [
       "<matplotlib.figure.Figure at 0x10dfa0a58>"
      ]
     },
     "metadata": {},
     "output_type": "display_data"
    }
   ],
   "source": [
    "F,Lambda = gibbs_sampler_uncollapsed(data,0.1,1.,4,maxit=500)\n",
    "fig,ax = plt.subplots(4)\n",
    "for i in range(4):\n",
    "    ax[i].imshow(Lambda[i,:].reshape(5,5))\n",
    "plt.show()"
   ]
  },
  {
   "cell_type": "code",
   "execution_count": 116,
   "metadata": {},
   "outputs": [
    {
     "name": "stdout",
     "output_type": "stream",
     "text": [
      ".\n",
      ".\n",
      ".\n",
      ".\n",
      ".\n"
     ]
    },
    {
     "data": {
      "image/png": "[encoded data removed]",
      "text/plain": [
       "<matplotlib.figure.Figure at 0x1046761d0>"
      ]
     },
     "metadata": {},
     "output_type": "display_data"
    }
   ],
   "source": [
    "F,Lambda = gibbs_sampler_uncollapsed(data,0.1,1.,4,maxit=500)\n",
    "fig,ax = plt.subplots(4)\n",
    "for i in range(4):\n",
    "    ax[i].imshow(Lambda[i,:].reshape(5,5))\n",
    "plt.show()"
   ]
  },
  {
   "cell_type": "code",
   "execution_count": null,
   "metadata": {
    "collapsed": true
   },
   "outputs": [],
   "source": []
  }
 ],
 "metadata": {
  "kernelspec": {
   "display_name": "Python 3",
   "language": "python",
   "name": "python3"
  },
  "language_info": {
   "codemirror_mode": {
    "name": "ipython",
    "version": 3
   },
   "file_extension": ".py",
   "mimetype": "text/x-python",
   "name": "python",
   "nbconvert_exporter": "python",
   "pygments_lexer": "ipython3",
   "version": "3.6.2"
  }
 },
 "nbformat": 4,
 "nbformat_minor": 2
}

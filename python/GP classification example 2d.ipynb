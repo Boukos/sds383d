{
 "cells": [
  {
   "cell_type": "code",
   "execution_count": 1,
   "metadata": {
    "collapsed": true
   },
   "outputs": [],
   "source": [
    "import numpy as np\n",
    "import matplotlib.pyplot as plt\n",
    "from scipy.optimize import minimize\n",
    "\n",
    "def cov_fn_se(x_1, x_2,alpha, rho):\n",
    "    delt = (x_1 - x_2)/rho\n",
    "    \n",
    "    tmp = -0.5*np.dot(delt, delt)\n",
    "    return (alpha**2)*np.exp(tmp)\n",
    "\n",
    "#functions to return hessian, log lik, etc\n",
    "def loglik(f,y,invK, neg = True):\n",
    "    gauss_part = -0.5*np.dot(f.T,np.dot(invK,f)) #ignore normalizing constants\n",
    "    lik_part = -np.log(1+np.exp((2*y-1)*f))\n",
    "    ll = gauss_part+np.sum(lik_part)\n",
    "    if neg:\n",
    "        ll = -ll\n",
    "    return ll\n",
    "\n",
    "def loglik_g(f,y,invK,neg=True):\n",
    "    prob = 1./(1+np.exp(-f))\n",
    "    gauss_part = -np.dot(invK,f)\n",
    "    lik_part = y-prob\n",
    "    grad = lik_part + gauss_part\n",
    "    if neg:\n",
    "        grad = -grad\n",
    "    return grad\n",
    "\n",
    "def loglik_H(f,y,invK):\n",
    "    gauss_part = -invK\n",
    "    prob = 1./(1+np.exp(-f))\n",
    "    lik_part = np.diag(prob*(1-prob))\n",
    "    H = gauss_part - lik_part\n",
    "    return H, lik_part"
   ]
  },
  {
   "cell_type": "code",
   "execution_count": 2,
   "metadata": {},
   "outputs": [
    {
     "data": {
      "text/plain": [
       "array([[ 0.2,  0.1],\n",
       "       [ 0.2,  2.7],\n",
       "       [ 1.1,  1.9],\n",
       "       [ 1.2,  2. ],\n",
       "       [ 1.2,  4.4],\n",
       "       [ 1.5,  1.3],\n",
       "       [ 2.1,  4.2],\n",
       "       [ 2.9,  4.9],\n",
       "       [ 3.8,  3.4],\n",
       "       [ 4.2,  0.4]])"
      ]
     },
     "execution_count": 2,
     "metadata": {},
     "output_type": "execute_result"
    }
   ],
   "source": [
    "#create grid for prediction, and random inputs\n",
    "x = 0.1*np.array([[x,y] for x in range(50) for y in range(50)])\n",
    "x_inds = np.random.choice(x.shape[0],10,replace=True)\n",
    "x_inds = np.sort(x_inds)\n",
    "x_obs = x[x_inds,:]\n",
    "x_obs"
   ]
  },
  {
   "cell_type": "code",
   "execution_count": 3,
   "metadata": {
    "collapsed": true
   },
   "outputs": [],
   "source": [
    "#build the necessary covariance matrices...\n",
    "jit = 0.00001\n",
    "alpha = 5.\n",
    "ls = 1.\n",
    "\n",
    "K_all = np.array([[cov_fn_se(x[i,:],x[j,:],alpha,ls) for i in range(x.shape[0])] for j in range(x.shape[0])])\n",
    "K_all = K_all+jit*np.eye(K_all.shape[0])\n",
    "K_obs = K_all[x_inds,:]\n",
    "K_obs = K_obs[:,x_inds]\n",
    "K_star = K_all[:,x_inds]\n",
    "\n"
   ]
  },
  {
   "cell_type": "code",
   "execution_count": 4,
   "metadata": {
    "collapsed": true
   },
   "outputs": [],
   "source": [
    "#invert K\n",
    "invK_obs = np.linalg.inv(K_obs)\n"
   ]
  },
  {
   "cell_type": "code",
   "execution_count": 76,
   "metadata": {
    "collapsed": true
   },
   "outputs": [],
   "source": [
    "#star_inds = np.arange(x.shape[0])\n",
    "#star_inds = np.delete(star_inds, x_inds,axis=0)\n",
    "#K_starstar = K_all[star_inds,:]\n",
    "#K_starstar = K_starstar[:,star_inds]\n",
    "#K_star = K_all[star_inds, :]\n",
    "#K_star = K_star[:,x_inds]\n"
   ]
  },
  {
   "cell_type": "code",
   "execution_count": 5,
   "metadata": {},
   "outputs": [
    {
     "data": {
      "text/plain": [
       "(2500,)"
      ]
     },
     "execution_count": 5,
     "metadata": {},
     "output_type": "execute_result"
    }
   ],
   "source": [
    "#sample a \"true\" function\"\n",
    "import matplotlib.pyplot as plt\n",
    "f = np.random.multivariate_normal(np.zeros(x.shape[0]),K_all)\n",
    "fp = 1./(1+np.exp(-f))\n",
    "f.shape\n",
    "\n",
    "\n"
   ]
  },
  {
   "cell_type": "code",
   "execution_count": 6,
   "metadata": {},
   "outputs": [
    {
     "data": {
      "image/png": "[encoded data removed]",
      "text/plain": [
       "<matplotlib.figure.Figure at 0x10b762668>"
      ]
     },
     "metadata": {},
     "output_type": "display_data"
    },
    {
     "data": {
      "image/png": "[encoded data removed]",
      "text/plain": [
       "<matplotlib.figure.Figure at 0x151f500ef0>"
      ]
     },
     "metadata": {},
     "output_type": "display_data"
    }
   ],
   "source": [
    "#plot true function and sample data\n",
    "#red crosses are ones, black dots are zeros\n",
    "X, Y = np.meshgrid(0.1*np.arange(50), 0.1*np.arange(50))\n",
    "plt.contourf(X,Y,f.reshape(50,50).T)\n",
    "plt.show()\n",
    "\n",
    "plt.contourf(X,Y,fp.reshape(50,50).T)\n",
    "plt.colorbar()\n",
    "\n",
    "y_obs = (np.random.rand(len(x_inds))<fp[x_inds]).astype(int)\n",
    "plt.plot(x_obs[y_obs==1,0],x_obs[y_obs==1,1],'rx')\n",
    "plt.plot(x_obs[y_obs==0,0],x_obs[y_obs==0,1],'ko')\n",
    "plt.show()"
   ]
  },
  {
   "cell_type": "code",
   "execution_count": 7,
   "metadata": {},
   "outputs": [
    {
     "name": "stdout",
     "output_type": "stream",
     "text": [
      ".\n",
      ".\n",
      ".\n",
      ".\n",
      ".\n",
      ".\n"
     ]
    }
   ],
   "source": [
    "#initialize f to y\n",
    "f = 0.5*y_obs+0.5\n",
    "\n",
    "#optimize with Newton's method\n",
    "delt = 1.\n",
    "num_it = 0\n",
    "while delt > 0.0001:\n",
    "    prob = 1./(1+np.exp(-f))\n",
    "    W = np.diag(prob*(1-prob))\n",
    "    a = np.linalg.inv(invK_obs+W)\n",
    "    b = np.dot(W,f) + y_obs-prob\n",
    "    f_new = np.dot(a,b)\n",
    "    delt = np.sum(np.abs(f-f_new))\n",
    "    f = f_new+0\n",
    "    num_it +=1\n",
    "    print('.')\n",
    "    if num_it>20:\n",
    "        break\n",
    "        \n"
   ]
  },
  {
   "cell_type": "code",
   "execution_count": 8,
   "metadata": {},
   "outputs": [
    {
     "data": {
      "text/plain": [
       "array([-2.45069299, -2.77534575, -3.51799534, -3.46911069, -2.92414015,\n",
       "       -3.0133831 , -1.90141169,  1.82631922,  2.33158701, -2.29378883])"
      ]
     },
     "execution_count": 8,
     "metadata": {},
     "output_type": "execute_result"
    }
   ],
   "source": [
    "#check it's something kinda reasonable\n",
    "f"
   ]
  },
  {
   "cell_type": "code",
   "execution_count": 9,
   "metadata": {
    "collapsed": true
   },
   "outputs": [],
   "source": [
    "#calculate hessian and therefore covariance of observed data\n",
    "hess, W = loglik_H(f,y_obs,invK_obs)\n",
    "cov_obs = np.linalg.inv(-1*hess)\n",
    "#calculate mean\n",
    "mean = np.dot(K_star,np.dot(invK_obs,f))"
   ]
  },
  {
   "cell_type": "code",
   "execution_count": 10,
   "metadata": {},
   "outputs": [
    {
     "data": {
      "image/png": "[encoded data removed]",
      "text/plain": [
       "<matplotlib.figure.Figure at 0x1516afe128>"
      ]
     },
     "metadata": {},
     "output_type": "display_data"
    }
   ],
   "source": [
    "#plot the mean function\n",
    "ppost = 1./(1+np.exp(-mean))\n",
    "plt.contourf(X,Y,ppost.reshape(50,50).T)\n",
    "plt.colorbar()\n",
    "plt.plot(x_obs[y_obs==1,0],x_obs[y_obs==1,1],'rx')\n",
    "plt.plot(x_obs[y_obs==0,0],x_obs[y_obs==0,1],'ko')\n",
    "plt.show()"
   ]
  },
  {
   "cell_type": "code",
   "execution_count": 12,
   "metadata": {},
   "outputs": [],
   "source": [
    "#Calculate the covariance of the predictive distribution... see 3.23-3.25 in GP book \n",
    "#I'm using all data points here in my prediction to make plotting easier\n",
    "tmp = np.linalg.inv(K_obs + np.linalg.inv(W))\n",
    "cov_full = K_all - np.dot(K_star,np.dot(tmp,K_star.T))\n",
    "\n"
   ]
  },
  {
   "cell_type": "code",
   "execution_count": 13,
   "metadata": {},
   "outputs": [
    {
     "data": {
      "image/png": "[encoded data removed]",
      "text/plain": [
       "<matplotlib.figure.Figure at 0x10aa2add8>"
      ]
     },
     "metadata": {},
     "output_type": "display_data"
    },
    {
     "data": {
      "image/png": "[encoded data removed]",
      "text/plain": [
       "<matplotlib.figure.Figure at 0x15169f3f28>"
      ]
     },
     "metadata": {},
     "output_type": "display_data"
    }
   ],
   "source": [
    "#plot the mean function less 1sd\n",
    "ppost_less = ppost - np.sqrt(np.diag(cov_full))\n",
    "plt.contourf(X,Y,ppost_less.reshape(50,50).T)\n",
    "plt.colorbar()\n",
    "plt.plot(x_obs[y_obs==1,0],x_obs[y_obs==1,1],'rx')\n",
    "plt.plot(x_obs[y_obs==0,0],x_obs[y_obs==0,1],'ko')\n",
    "plt.show()\n",
    "\n",
    "#plot the mean function plus 1sd\n",
    "ppost_more = ppost + np.sqrt(np.diag(cov_full))\n",
    "plt.contourf(X,Y,ppost_more.reshape(50,50).T)\n",
    "plt.colorbar()\n",
    "plt.plot(x_obs[y_obs==1,0],x_obs[y_obs==1,1],'rx')\n",
    "plt.plot(x_obs[y_obs==0,0],x_obs[y_obs==0,1],'ko')\n",
    "plt.show()"
   ]
  },
  {
   "cell_type": "code",
   "execution_count": null,
   "metadata": {
    "collapsed": true
   },
   "outputs": [],
   "source": []
  }
 ],
 "metadata": {
  "kernelspec": {
   "display_name": "Python 3",
   "language": "python",
   "name": "python3"
  },
  "language_info": {
   "codemirror_mode": {
    "name": "ipython",
    "version": 3
   },
   "file_extension": ".py",
   "mimetype": "text/x-python",
   "name": "python",
   "nbconvert_exporter": "python",
   "pygments_lexer": "ipython3",
   "version": "3.6.2"
  }
 },
 "nbformat": 4,
 "nbformat_minor": 2
}

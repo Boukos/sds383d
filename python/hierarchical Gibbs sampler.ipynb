{
 "cells": [
  {
   "cell_type": "code",
   "execution_count": 1,
   "metadata": {
    "collapsed": true
   },
   "outputs": [],
   "source": [
    "import numpy as np\n",
    "import matplotlib.pyplot as plt\n",
    "import pdb\n",
    "def basic_sampler(X,y,gamma_params=[1.,1.], lambda_param=1., mu0=None, K=None,num_iters=1000):\n",
    "    #init\n",
    "    \n",
    "    num_obs, num_params = X.shape\n",
    "    \n",
    "    omegas = np.zeros(num_iters)\n",
    "    lambs = np.zeros((num_obs,num_iters))\n",
    "    betas = np.zeros((num_params,num_iters))\n",
    "    omegas[0] = gamma_params[0]/gamma_params[1]\n",
    "    lambs[:,0] = 1.\n",
    "    if K is None:\n",
    "        K = np.eye(num_params)\n",
    "    if mu0 is None:\n",
    "        mu0 = np.zeros(num_params)\n",
    "    for iter in range(1,num_iters):\n",
    "        #sample omega\n",
    "        lamb = np.diag(lambs[:,iter-1])\n",
    "        post_K = np.dot(X.T,np.dot(lamb,X))+K\n",
    "        tmp = np.dot(X.T,np.dot(lamb,y))+np.dot(K,mu0)\n",
    "        post_mu = np.dot(np.linalg.inv(post_K),tmp)\n",
    "        post_gamma_1 = gamma_params[0]+num_obs/2\n",
    "        post_gamma_2 = gamma_params[1]+ 0.5*np.dot(y,np.dot(lamb,y)) + \\\n",
    "                0.5*np.dot(mu0,np.dot(K,mu0))-0.5*np.dot(post_mu,np.dot(post_K,post_mu))\n",
    "        \n",
    "        omegas[iter]=np.random.gamma(post_gamma_1,1/post_gamma_2)\n",
    "        betas[:,iter]= np.random.multivariate_normal(post_mu,np.linalg.inv(omegas[iter]*post_K))\n",
    "        for n in range(num_obs):\n",
    "            sq_diff = (y[i]-np.dot(betas[:,iter],X[n,:]))**2\n",
    "            lambs[n,iter]=np.random.gamma(lambda_param+0.5,lambda_param + 0.5*omegas[iter]*sq_diff)\n",
    "            \n",
    "    return betas, omegas, lambs\n",
    "            "
   ]
  },
  {
   "cell_type": "code",
   "execution_count": 2,
   "metadata": {
    "collapsed": true
   },
   "outputs": [],
   "source": [
    "import pandas as pd\n",
    "\n",
    "df = pd.read_csv(\"/Users/williamsons/Teaching/GradCourse/R/dental.csv\") #load data into pandas dataframe\n",
    "\n",
    "#split data\n",
    "y = df.as_matrix(columns=['distance']).ravel() \n",
    "X = df.as_matrix(columns=['age'])\n",
    "X = np.hstack((np.ones((len(y),1)),X))\n",
    "id_attribute_list = list(set(df['Subject'].values))\n",
    "first_id = id_attribute_list.pop()\n",
    "X = np.hstack((X,np.zeros((len(y),1+len(id_attribute_list)))))\n",
    "X[:,2] = np.array(df['Sex'].values=='Male').astype(float)\n",
    "\n",
    "for i in range(len(id_attribute_list)):\n",
    "    X[:,i+3] = np.array(df['Subject']==id_attribute_list[i])\n"
   ]
  },
  {
   "cell_type": "code",
   "execution_count": 3,
   "metadata": {
    "collapsed": true
   },
   "outputs": [],
   "source": [
    "betas,omegas,lambs = basic_sampler(X,y)"
   ]
  },
  {
   "cell_type": "code",
   "execution_count": 5,
   "metadata": {},
   "outputs": [
    {
     "data": {
      "image/png": "[encoded data removed]",
      "text/plain": [
       "<matplotlib.figure.Figure at 0x11d818ef0>"
      ]
     },
     "metadata": {},
     "output_type": "display_data"
    }
   ],
   "source": [
    "plt.hist(1/(omegas[-1]*lambs[:,-1]),100)\n",
    "plt.show()"
   ]
  },
  {
   "cell_type": "code",
   "execution_count": 6,
   "metadata": {},
   "outputs": [
    {
     "data": {
      "text/plain": [
       "18.657774060819946"
      ]
     },
     "execution_count": 6,
     "metadata": {},
     "output_type": "execute_result"
    }
   ],
   "source": [
    "max(lambs[:,-1])"
   ]
  },
  {
   "cell_type": "code",
   "execution_count": 7,
   "metadata": {
    "collapsed": true
   },
   "outputs": [],
   "source": [
    "def grouped_variance_sampler(X,y,gamma_params=[1.,1.], lambda_param=1., mu0=None, K=None,num_iters=1000):\n",
    "    #init\n",
    "    \n",
    "    num_obs, num_params = X.shape\n",
    "    \n",
    "    omegas = np.zeros(num_iters)\n",
    "    lambs = np.zeros((num_obs,num_iters))\n",
    "    betas = np.zeros((num_params,num_iters))\n",
    "    omegas[0] = gamma_params[0]/gamma_params[1]\n",
    "    lambs[:,0] = 1.\n",
    "    if K is None:\n",
    "        K = np.eye(num_params)\n",
    "    if mu0 is None:\n",
    "        mu0 = np.zeros(num_params)\n",
    "    for iter in range(1,num_iters):\n",
    "        #sample omega\n",
    "        lamb = np.diag(lambs[:,iter-1])\n",
    "        post_K = np.dot(X.T,np.dot(lamb,X))+K\n",
    "        tmp = np.dot(X.T,np.dot(lamb,y))+np.dot(K,mu0)\n",
    "        post_mu = np.dot(np.linalg.inv(post_K),tmp)\n",
    "        post_gamma_1 = gamma_params[0]+num_obs/2\n",
    "        post_gamma_2 = gamma_params[1]+ 0.5*np.dot(y,np.dot(lamb,y)) + \\\n",
    "                0.5*np.dot(mu0,np.dot(K,mu0))-0.5*np.dot(post_mu,np.dot(post_K,post_mu))\n",
    "        \n",
    "        omegas[iter]=np.random.gamma(post_gamma_1,1/post_gamma_2)\n",
    "        betas[:,iter]= np.random.multivariate_normal(post_mu,np.linalg.inv(omegas[iter]*post_K))\n",
    "        male_inds = np.where(X[:,3]==1)[0]\n",
    "        female_inds = np.where(X[:,3]==0)[0]\n",
    "        \n",
    "        num_m = len(male_inds)\n",
    "        num_f = len(female_inds)\n",
    "        diff_m = y[male_inds]-np.dot(X[male_inds,:],betas[:,iter])\n",
    "        m_sq_diff = np.dot(diff_m,diff_m)\n",
    "        diff_f = y[female_inds]-np.dot(X[female_inds,:],betas[:,iter])\n",
    "        f_sq_diff = np.dot(diff_f,diff_f)\n",
    "        lamb_male = np.random.gamma(lambda_param+num_m/2, lambda_param+0.5*omegas[iter]*m_sq_diff)\n",
    "        lamb_female = np.random.gamma(lambda_param+num_f/2, lambda_param+0.5*omegas[iter]*f_sq_diff)\n",
    "        lambs[male_inds,iter]+=lamb_male\n",
    "        lambs[female_inds,iter]+=lamb_female\n",
    "        \n",
    "    return betas, omegas, lambs"
   ]
  },
  {
   "cell_type": "code",
   "execution_count": 8,
   "metadata": {
    "collapsed": true
   },
   "outputs": [],
   "source": [
    "betas2,omegas2,lambs2 = grouped_variance_sampler(X,y)"
   ]
  },
  {
   "cell_type": "code",
   "execution_count": 9,
   "metadata": {},
   "outputs": [
    {
     "data": {
      "image/png": "[encoded data removed]",
      "text/plain": [
       "<matplotlib.figure.Figure at 0x11db23f98>"
      ]
     },
     "metadata": {},
     "output_type": "display_data"
    }
   ],
   "source": [
    "plt.hist(1/(omegas2[-1]*lambs2[:,-1]),100)\n",
    "plt.show()"
   ]
  },
  {
   "cell_type": "code",
   "execution_count": 10,
   "metadata": {
    "collapsed": true
   },
   "outputs": [],
   "source": [
    "y_pred_1 = np.dot(X,betas[:,-1])"
   ]
  },
  {
   "cell_type": "code",
   "execution_count": 11,
   "metadata": {
    "collapsed": true
   },
   "outputs": [],
   "source": [
    "y_pred_2 = np.dot(X,betas[:,-2])"
   ]
  },
  {
   "cell_type": "code",
   "execution_count": 12,
   "metadata": {},
   "outputs": [
    {
     "data": {
      "image/png": "[encoded data removed]",
      "text/plain": [
       "<matplotlib.figure.Figure at 0x11ddf34e0>"
      ]
     },
     "metadata": {},
     "output_type": "display_data"
    }
   ],
   "source": [
    "plt.plot(y,y_pred_1,'x')\n",
    "plt.show()"
   ]
  },
  {
   "cell_type": "code",
   "execution_count": 13,
   "metadata": {},
   "outputs": [
    {
     "data": {
      "image/png": "[encoded data removed]",
      "text/plain": [
       "<matplotlib.figure.Figure at 0x11dd499b0>"
      ]
     },
     "metadata": {},
     "output_type": "display_data"
    }
   ],
   "source": [
    "plt.plot(y,y_pred_2,'x')\n",
    "plt.show()"
   ]
  },
  {
   "cell_type": "code",
   "execution_count": 14,
   "metadata": {},
   "outputs": [
    {
     "data": {
      "image/png": "[encoded data removed]",
      "text/plain": [
       "<matplotlib.figure.Figure at 0x11dd040b8>"
      ]
     },
     "metadata": {},
     "output_type": "display_data"
    }
   ],
   "source": [
    "plt.plot(betas[:,-1],betas2[:,-1],'x')\n",
    "plt.plot([-5,15],[-5,15])\n",
    "plt.show()"
   ]
  },
  {
   "cell_type": "code",
   "execution_count": 15,
   "metadata": {
    "collapsed": true
   },
   "outputs": [],
   "source": [
    "resids1 = y-np.dot(X,betas[:,-1])\n",
    "resids2 = y-np.dot(X,betas2[:,-1])\n"
   ]
  },
  {
   "cell_type": "code",
   "execution_count": 16,
   "metadata": {},
   "outputs": [
    {
     "data": {
      "image/png": "[encoded data removed]",
      "text/plain": [
       "<matplotlib.figure.Figure at 0x11da33dd8>"
      ]
     },
     "metadata": {},
     "output_type": "display_data"
    }
   ],
   "source": [
    "plt.hist(resids1)\n",
    "plt.show()"
   ]
  },
  {
   "cell_type": "code",
   "execution_count": 17,
   "metadata": {},
   "outputs": [
    {
     "data": {
      "image/png": "[encoded data removed]",
      "text/plain": [
       "<matplotlib.figure.Figure at 0x11d9ae780>"
      ]
     },
     "metadata": {},
     "output_type": "display_data"
    }
   ],
   "source": [
    "plt.hist(resids2)\n",
    "plt.show()"
   ]
  },
  {
   "cell_type": "code",
   "execution_count": null,
   "metadata": {
    "collapsed": true
   },
   "outputs": [],
   "source": []
  }
 ],
 "metadata": {
  "kernelspec": {
   "display_name": "Python 3",
   "language": "python",
   "name": "python3"
  },
  "language_info": {
   "codemirror_mode": {
    "name": "ipython",
    "version": 3
   },
   "file_extension": ".py",
   "mimetype": "text/x-python",
   "name": "python",
   "nbconvert_exporter": "python",
   "pygments_lexer": "ipython3",
   "version": "3.6.2"
  }
 },
 "nbformat": 4,
 "nbformat_minor": 2
}
